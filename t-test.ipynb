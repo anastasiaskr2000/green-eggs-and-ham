{
 "cells": [
  {
   "cell_type": "code",
   "execution_count": 16,
   "metadata": {},
   "outputs": [],
   "source": [
    "import pandas as pd\n",
    "import matplotlib.pyplot as plt\n",
    "import scipy.stats as st\n",
    "import numpy as np\n",
    "from scipy import stats"
   ]
  },
  {
   "cell_type": "code",
   "execution_count": 17,
   "metadata": {},
   "outputs": [],
   "source": [
    "# Read in the Immigration Data\n",
    "immigration_df = pd.read_csv(r'C:\\Users\\e_pen\\Desktop\\Data Analytics\\Project 4\\prd_immigration.csv')\n",
    "immigration = immigration_df['value']\n",
    "\n",
    "house_sales_df = pd.read_csv(r'C:\\Users\\e_pen\\Desktop\\Data Analytics\\Project 4\\prd_house_sales_data.csv')\n",
    "house_sales = house_sales_df['house_price']"
   ]
  },
  {
   "cell_type": "code",
   "execution_count": 18,
   "metadata": {},
   "outputs": [
    {
     "data": {
      "text/html": [
       "<div>\n",
       "<style scoped>\n",
       "    .dataframe tbody tr th:only-of-type {\n",
       "        vertical-align: middle;\n",
       "    }\n",
       "\n",
       "    .dataframe tbody tr th {\n",
       "        vertical-align: top;\n",
       "    }\n",
       "\n",
       "    .dataframe thead th {\n",
       "        text-align: right;\n",
       "    }\n",
       "</style>\n",
       "<table border=\"1\" class=\"dataframe\">\n",
       "  <thead>\n",
       "    <tr style=\"text-align: right;\">\n",
       "      <th></th>\n",
       "      <th>index</th>\n",
       "      <th>REF_DATE</th>\n",
       "      <th>GEO</th>\n",
       "      <th>value</th>\n",
       "      <th>status_year</th>\n",
       "    </tr>\n",
       "  </thead>\n",
       "  <tbody>\n",
       "    <tr>\n",
       "      <th>0</th>\n",
       "      <td>0</td>\n",
       "      <td>2021</td>\n",
       "      <td>Abbotsford - Mission (CMA), B.C.</td>\n",
       "      <td>3378477</td>\n",
       "      <td>1980</td>\n",
       "    </tr>\n",
       "    <tr>\n",
       "      <th>1</th>\n",
       "      <td>1</td>\n",
       "      <td>2021</td>\n",
       "      <td>Alberta</td>\n",
       "      <td>49350279</td>\n",
       "      <td>1980</td>\n",
       "    </tr>\n",
       "    <tr>\n",
       "      <th>2</th>\n",
       "      <td>2</td>\n",
       "      <td>2021</td>\n",
       "      <td>Barrie (CMA), Ont.</td>\n",
       "      <td>3960250</td>\n",
       "      <td>1980</td>\n",
       "    </tr>\n",
       "    <tr>\n",
       "      <th>3</th>\n",
       "      <td>3</td>\n",
       "      <td>2021</td>\n",
       "      <td>Belleville - Quinte West (CMA), Ont.</td>\n",
       "      <td>1538001</td>\n",
       "      <td>1980</td>\n",
       "    </tr>\n",
       "    <tr>\n",
       "      <th>4</th>\n",
       "      <td>4</td>\n",
       "      <td>2021</td>\n",
       "      <td>Brantford (CMA), Ont.</td>\n",
       "      <td>2680709</td>\n",
       "      <td>1980</td>\n",
       "    </tr>\n",
       "  </tbody>\n",
       "</table>\n",
       "</div>"
      ],
      "text/plain": [
       "   index  REF_DATE                                   GEO     value  \\\n",
       "0      0      2021      Abbotsford - Mission (CMA), B.C.   3378477   \n",
       "1      1      2021                               Alberta  49350279   \n",
       "2      2      2021                    Barrie (CMA), Ont.   3960250   \n",
       "3      3      2021  Belleville - Quinte West (CMA), Ont.   1538001   \n",
       "4      4      2021                 Brantford (CMA), Ont.   2680709   \n",
       "\n",
       "   status_year  \n",
       "0         1980  \n",
       "1         1980  \n",
       "2         1980  \n",
       "3         1980  \n",
       "4         1980  "
      ]
     },
     "execution_count": 18,
     "metadata": {},
     "output_type": "execute_result"
    }
   ],
   "source": [
    "immigration_df.head()"
   ]
  },
  {
   "cell_type": "code",
   "execution_count": 19,
   "metadata": {},
   "outputs": [
    {
     "data": {
      "text/html": [
       "<div>\n",
       "<style scoped>\n",
       "    .dataframe tbody tr th:only-of-type {\n",
       "        vertical-align: middle;\n",
       "    }\n",
       "\n",
       "    .dataframe tbody tr th {\n",
       "        vertical-align: top;\n",
       "    }\n",
       "\n",
       "    .dataframe thead th {\n",
       "        text-align: right;\n",
       "    }\n",
       "</style>\n",
       "<table border=\"1\" class=\"dataframe\">\n",
       "  <thead>\n",
       "    <tr style=\"text-align: right;\">\n",
       "      <th></th>\n",
       "      <th>REF_DATE</th>\n",
       "      <th>GEO</th>\n",
       "      <th>price_indexes</th>\n",
       "      <th>house_price</th>\n",
       "    </tr>\n",
       "  </thead>\n",
       "  <tbody>\n",
       "    <tr>\n",
       "      <th>0</th>\n",
       "      <td>1981-01</td>\n",
       "      <td>Canada</td>\n",
       "      <td>Total (house and land)</td>\n",
       "      <td>38.2</td>\n",
       "    </tr>\n",
       "    <tr>\n",
       "      <th>1</th>\n",
       "      <td>1981-01</td>\n",
       "      <td>Canada</td>\n",
       "      <td>House only</td>\n",
       "      <td>36.1</td>\n",
       "    </tr>\n",
       "    <tr>\n",
       "      <th>2</th>\n",
       "      <td>1981-01</td>\n",
       "      <td>Canada</td>\n",
       "      <td>Land only</td>\n",
       "      <td>40.6</td>\n",
       "    </tr>\n",
       "    <tr>\n",
       "      <th>3</th>\n",
       "      <td>1981-01</td>\n",
       "      <td>Atlantic Region</td>\n",
       "      <td>Total (house and land)</td>\n",
       "      <td>NaN</td>\n",
       "    </tr>\n",
       "    <tr>\n",
       "      <th>4</th>\n",
       "      <td>1981-01</td>\n",
       "      <td>Atlantic Region</td>\n",
       "      <td>House only</td>\n",
       "      <td>NaN</td>\n",
       "    </tr>\n",
       "  </tbody>\n",
       "</table>\n",
       "</div>"
      ],
      "text/plain": [
       "  REF_DATE              GEO           price_indexes  house_price\n",
       "0  1981-01           Canada  Total (house and land)         38.2\n",
       "1  1981-01           Canada              House only         36.1\n",
       "2  1981-01           Canada               Land only         40.6\n",
       "3  1981-01  Atlantic Region  Total (house and land)          NaN\n",
       "4  1981-01  Atlantic Region              House only          NaN"
      ]
     },
     "execution_count": 19,
     "metadata": {},
     "output_type": "execute_result"
    }
   ],
   "source": [
    "house_sales_df.head()"
   ]
  },
  {
   "cell_type": "code",
   "execution_count": 12,
   "metadata": {},
   "outputs": [
    {
     "name": "stdout",
     "output_type": "stream",
     "text": [
      "The mean value of immigrants to Canada between 1990 and 2021 is 16190373.71\n"
     ]
    }
   ],
   "source": [
    "# Calculate measures of central tendancy\n",
    "#mean_numpy = np.mean(immigration)\n",
    "#print(f\"The mean value of immigrants to Canada between 1990 and 2021 is {mean_numpy}\")\n"
   ]
  },
  {
   "cell_type": "code",
   "execution_count": 20,
   "metadata": {},
   "outputs": [
    {
     "name": "stdout",
     "output_type": "stream",
     "text": [
      "There is no significant difference between the two samples.\n"
     ]
    }
   ],
   "source": [
    "column_name = 'testing'\n",
    "\n",
    "sample1 = immigration_df['value']\n",
    "sample2 = house_sales_df['house_price']\n",
    "\n",
    "# Perform the t-test\n",
    "t_statistic, p_value = stats.ttest_ind(sample1, sample2)\n",
    "\n",
    "# Interpret the results\n",
    "if p_value < 0.05:\n",
    "    print(\"There is a significant difference between the two samples.\")\n",
    "else:\n",
    "    print(\"There is no significant difference between the two samples.\")"
   ]
  },
  {
   "cell_type": "code",
   "execution_count": null,
   "metadata": {},
   "outputs": [],
   "source": []
  }
 ],
 "metadata": {
  "kernelspec": {
   "display_name": "base",
   "language": "python",
   "name": "python3"
  },
  "language_info": {
   "codemirror_mode": {
    "name": "ipython",
    "version": 3
   },
   "file_extension": ".py",
   "mimetype": "text/x-python",
   "name": "python",
   "nbconvert_exporter": "python",
   "pygments_lexer": "ipython3",
   "version": "3.10.9"
  },
  "orig_nbformat": 4
 },
 "nbformat": 4,
 "nbformat_minor": 2
}
